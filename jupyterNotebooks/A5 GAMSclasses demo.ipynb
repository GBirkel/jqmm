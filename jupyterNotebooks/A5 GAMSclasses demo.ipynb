{
 "cells": [
  {
   "cell_type": "markdown",
   "metadata": {},
   "source": [
    "# A5: GAMSclasses module notebook"
   ]
  },
  {
   "cell_type": "markdown",
   "metadata": {},
   "source": [
    "# Introduction"
   ]
  },
  {
   "cell_type": "markdown",
   "metadata": {},
   "source": [
    "This notebook describes the functionality of the GAMSclasses module in the jQMM library (JBEI Quantitative Metabolic Modeling). This module interacts with the GAMS (General Algebraic Modeling System) to solve the necessary optimization problems."
   ]
  },
  {
   "cell_type": "markdown",
   "metadata": {},
   "source": [
    "# Setup"
   ]
  },
  {
   "cell_type": "markdown",
   "metadata": {},
   "source": [
    "First, we need to set the path and environment variable properly:"
   ]
  },
  {
   "cell_type": "code",
   "execution_count": 1,
   "metadata": {
    "collapsed": true
   },
   "outputs": [],
   "source": [
    "quantmodelDir = '/users/hgmartin/libraries/quantmodel'"
   ]
  },
  {
   "cell_type": "markdown",
   "metadata": {},
   "source": [
    "This is the only place where the jQMM library path needs to be set."
   ]
  },
  {
   "cell_type": "code",
   "execution_count": 2,
   "metadata": {
    "collapsed": false
   },
   "outputs": [],
   "source": [
    "%matplotlib inline\n",
    "\n",
    "import sys, os\n",
    "pythonPath = quantmodelDir+\"/code/core\"\n",
    "if pythonPath not in sys.path:\n",
    "    sys.path.append(pythonPath)\n",
    "os.environ[\"QUANTMODELPATH\"] = quantmodelDir"
   ]
  },
  {
   "cell_type": "markdown",
   "metadata": {},
   "source": [
    "Let's import the module we want to test plus other dependencies:"
   ]
  },
  {
   "cell_type": "code",
   "execution_count": 3,
   "metadata": {
    "collapsed": true
   },
   "outputs": [],
   "source": [
    "import GAMSclasses as GC\n",
    "import numpy"
   ]
  },
  {
   "cell_type": "markdown",
   "metadata": {},
   "source": [
    "And move to a defined directory:"
   ]
  },
  {
   "cell_type": "code",
   "execution_count": 4,
   "metadata": {
    "collapsed": false
   },
   "outputs": [
    {
     "name": "stdout",
     "output_type": "stream",
     "text": [
      "/mnt/nfs.jbei/nfs/users/hgmartin/tests\n"
     ]
    }
   ],
   "source": [
    "cd ~/tests"
   ]
  },
  {
   "cell_type": "markdown",
   "metadata": {},
   "source": [
    "# Classes description"
   ]
  },
  {
   "cell_type": "markdown",
   "metadata": {},
   "source": [
    "## GAMSSet class"
   ]
  },
  {
   "cell_type": "markdown",
   "metadata": {},
   "source": [
    "The GAMSSet class is used to store information on sets for GAMS problems (e.g. see http://www.gams.com/help/index.jsp?topic=%2Fgams.doc%2Fuserguides%2Fuserguide%2F_u_g__set_definition.html).\n",
    "\n",
    "Let's first create an empty set (met set in this case):"
   ]
  },
  {
   "cell_type": "code",
   "execution_count": 5,
   "metadata": {
    "collapsed": false
   },
   "outputs": [],
   "source": [
    "testSet = GC.GAMSSet('metset',set([]))  "
   ]
  },
  {
   "cell_type": "markdown",
   "metadata": {},
   "source": [
    "And then add elements for the set:"
   ]
  },
  {
   "cell_type": "code",
   "execution_count": 6,
   "metadata": {
    "collapsed": false
   },
   "outputs": [],
   "source": [
    "lines = [\"/\",\"'gluL'\",\"'gly'\",\"'ileL'\",\"'lacL'\",\"'mlthf'\",\"'oaabm'\",\"'pepbm'\",\"'pheL'\",\n",
    "\"'proL'\",\"'pyrbm'\",\"'r5pbm'\",\"'serL'\",\"'tyrL'\",\"'valL'\",\"/\"]\n",
    "\n",
    "testSet.read(('metset.txt','\\n'.join(lines)))"
   ]
  },
  {
   "cell_type": "markdown",
   "metadata": {},
   "source": [
    "The final set looks like this:"
   ]
  },
  {
   "cell_type": "code",
   "execution_count": 7,
   "metadata": {
    "collapsed": false
   },
   "outputs": [
    {
     "name": "stdout",
     "output_type": "stream",
     "text": [
      "/ \n",
      "'gluL'\n",
      "'gly'\n",
      "'ileL'\n",
      "'lacL'\n",
      "'mlthf'\n",
      "'oaabm'\n",
      "'pepbm'\n",
      "'pheL'\n",
      "'proL'\n",
      "'pyrbm'\n",
      "'r5pbm'\n",
      "'serL'\n",
      "'tyrL'\n",
      "'valL'\n",
      "/ \n",
      "\n"
     ]
    }
   ],
   "source": [
    "output= testSet.write('toString')\n",
    "print output"
   ]
  },
  {
   "cell_type": "markdown",
   "metadata": {},
   "source": [
    "## GAMSParameter class"
   ]
  },
  {
   "cell_type": "markdown",
   "metadata": {},
   "source": [
    "The GAMSParameter class stores information on paramters for GAMS problems (https://www.gams.com/help/index.jsp?topic=%2Fgams.doc%2Fuserguides%2Fmccarl%2Fparameters_1.htm).\n",
    "\n",
    "Let's proceed as for sets and produce first an empty parameter to which we add some data:\n"
   ]
  },
  {
   "cell_type": "code",
   "execution_count": 8,
   "metadata": {
    "collapsed": false
   },
   "outputs": [],
   "source": [
    "testPar = GC.GAMSParameter('S',[])\n",
    "\n",
    "#testpar.read('/users/hgmartin/pythontest/gams/stoich.txt')"
   ]
  },
  {
   "cell_type": "markdown",
   "metadata": {},
   "source": [
    "Here is the data for a stochiometry matrix, which are described as parameters in GAMS:"
   ]
  },
  {
   "cell_type": "code",
   "execution_count": 9,
   "metadata": {
    "collapsed": false
   },
   "outputs": [],
   "source": [
    "lines = [\"S('13dpg','GAPD')=1.0;\",\"S('13dpg','PGK')=-1.0;\",\"S('2pg','ENO_b')=1.0;\",\"S('2pg','ENO_f')=-1.0;\",\n",
    "               \"S('2pg','PGM_b')=-1.0;\",\"S('2pg','PGM_f')=1.0;\",\"S('3pgc','PGK')=1.0;\"]"
   ]
  },
  {
   "cell_type": "code",
   "execution_count": 10,
   "metadata": {
    "collapsed": false
   },
   "outputs": [],
   "source": [
    "testPar.read(('stoich.txt','\\n'.join(lines)))"
   ]
  },
  {
   "cell_type": "markdown",
   "metadata": {},
   "source": [
    "And the GAMS parameter file looks like:"
   ]
  },
  {
   "cell_type": "code",
   "execution_count": 11,
   "metadata": {
    "collapsed": false
   },
   "outputs": [
    {
     "name": "stdout",
     "output_type": "stream",
     "text": [
      "S('13dpg','GAPD')=1.0;\n",
      "S('13dpg','PGK')=-1.0;\n",
      "S('2pg','ENO_b')=1.0;\n",
      "S('2pg','ENO_f')=-1.0;\n",
      "S('2pg','PGM_b')=-1.0;\n",
      "S('2pg','PGM_f')=1.0;\n",
      "S('3pgc','PGK')=1.0;\n",
      "\n"
     ]
    }
   ],
   "source": [
    "print  testPar.write('toString')\n"
   ]
  },
  {
   "cell_type": "markdown",
   "metadata": {},
   "source": [
    "## GAMSTable and GAMSTableKeys classes"
   ]
  },
  {
   "cell_type": "markdown",
   "metadata": {},
   "source": [
    "GAMSTable and GAMSTableKeys are classes used to handle GAMS tables:"
   ]
  },
  {
   "cell_type": "code",
   "execution_count": 12,
   "metadata": {
    "collapsed": false
   },
   "outputs": [],
   "source": [
    "name  = \"testTable\"\n",
    "xkeys = GC.GAMSTableKeys('m',['1','2'])\n",
    "ykeys = GC.GAMSTableKeys('frag',['Ala','Ser'])\n",
    "array = numpy.array([[0.2,0.3],[0.4,0.9]])\n",
    "    \n",
    "table = GC.GAMSTable(name,xkeys,ykeys,array)"
   ]
  },
  {
   "cell_type": "code",
   "execution_count": 13,
   "metadata": {
    "collapsed": false
   },
   "outputs": [
    {
     "name": "stdout",
     "output_type": "stream",
     "text": [
      "Table testTable(frag,m)\n",
      "\t1\t2\n",
      "Ala\t0.20000\t0.30000\n",
      "Ser\t0.40000\t0.90000\n",
      ";\n"
     ]
    }
   ],
   "source": [
    "print table.write('toString')"
   ]
  },
  {
   "cell_type": "markdown",
   "metadata": {},
   "source": [
    "##  GAMSProblem"
   ]
  },
  {
   "cell_type": "markdown",
   "metadata": {},
   "source": [
    "GAMSProblem is used to hold all the information regarding an algebraic problem defined in GAMS. It is also equipped with the necessary methods to solve it.\n",
    "\n",
    "First let's check that GAMS is callable (status = 0 means a successful call):"
   ]
  },
  {
   "cell_type": "code",
   "execution_count": 14,
   "metadata": {
    "collapsed": false
   },
   "outputs": [
    {
     "name": "stdout",
     "output_type": "stream",
     "text": [
      "0\n"
     ]
    }
   ],
   "source": [
    "status = os.system('gams')\n",
    "print status"
   ]
  },
  {
   "cell_type": "markdown",
   "metadata": {},
   "source": [
    "The lines for the classic transport problem are stored in the module:"
   ]
  },
  {
   "cell_type": "code",
   "execution_count": 15,
   "metadata": {
    "collapsed": false
   },
   "outputs": [],
   "source": [
    "testProblem = GC.getTransportProblem()"
   ]
  },
  {
   "cell_type": "code",
   "execution_count": 16,
   "metadata": {
    "collapsed": false
   },
   "outputs": [
    {
     "name": "stdout",
     "output_type": "stream",
     "text": [
      "SETS\n",
      "I   canning plants   / SEATTLE, SAN-DIEGO /\n",
      "J   markets          / NEW-YORK, CHICAGO, TOPEKA / ;\n",
      "PARAMETERS\n",
      "A(I)  capacity of plant i in cases\n",
      "         /    SEATTLE     350\n",
      "              SAN-DIEGO   600  /\n",
      "B(J)  demand at market j in cases\n",
      "         /    NEW-YORK    325\n",
      "              CHICAGO     300\n",
      "              TOPEKA      275  / ;\n",
      "TABLE D(I,J)  distance in thousands of miles\n",
      "                    NEW-YORK       CHICAGO      TOPEKA\n",
      "      SEATTLE          2.5           1.7          1.8   \n",
      "      SAN-DIEGO        2.5           1.8          1.4  ;\n",
      "SCALAR F  freight in dollars per case per thousand miles  /90/ ;\n",
      "PARAMETER C(I,J)  transport cost in thousands of dollars per case ;\n",
      "       C(I,J) = F * D(I,J) / 1000 ;\n",
      "VARIABLES\n",
      "       X(I,J)  shipment quantities in cases\n",
      "       Z       total transportation costs in thousands of dollars ;\n",
      "POSITIVE VARIABLE X ;\n",
      "EQUATIONS\n",
      "       COST        define objective function\n",
      "       SUPPLY(I)   observe supply limit at plant i\n",
      "       DEMAND(J)   satisfy demand at market j ;\n",
      "COST ..        Z  =E=  SUM((I,J), C(I,J)*X(I,J)) ;\n",
      "SUPPLY(I) ..   SUM(J, X(I,J))  =L=  A(I) ;\n",
      "DEMAND(J) ..   SUM(I, X(I,J))  =G=  B(J) ;\n",
      "MODEL TRANSPORT /ALL/ ;\n",
      "SOLVE TRANSPORT USING LP MINIMIZING Z ;\n",
      "\n",
      "file foutfile/\"Zout.txt\"/;\n",
      "put foutfile\n",
      "put \"Z    = \",Z.l,\" \";    put /;\n",
      "putclose foutfile;\n"
     ]
    }
   ],
   "source": [
    "for line in testProblem.writeGAMSFile('toString')[1].split('\\n'):\n",
    "    print line"
   ]
  },
  {
   "cell_type": "markdown",
   "metadata": {},
   "source": [
    "We can use the included methods to find the solution to the algebraic problem through GAMS:"
   ]
  },
  {
   "cell_type": "code",
   "execution_count": 17,
   "metadata": {
    "collapsed": false
   },
   "outputs": [],
   "source": [
    "with testProblem as prob:\n",
    "    # Run problem\n",
    "    prob.run()\n",
    "\n",
    "    # Check if it is done\n",
    "    prob.waitTilDone()\n",
    "\n",
    "    # Collect data\n",
    "    prob.collect()\n",
    "        \n",
    "    # Output data \n",
    "    resultsDict = prob.Results  \n",
    "       "
   ]
  },
  {
   "cell_type": "markdown",
   "metadata": {},
   "source": [
    "And the result is the expected 153.68 (https://www.gams.com/docs/example.htm): "
   ]
  },
  {
   "cell_type": "code",
   "execution_count": 18,
   "metadata": {
    "collapsed": false
   },
   "outputs": [
    {
     "name": "stdout",
     "output_type": "stream",
     "text": [
      "{'Zout': 'Z    =       153.68\\n'}\n"
     ]
    }
   ],
   "source": [
    "print resultsDict"
   ]
  },
  {
   "cell_type": "markdown",
   "metadata": {},
   "source": [
    "## GAMSProblemBatch"
   ]
  },
  {
   "cell_type": "markdown",
   "metadata": {},
   "source": [
    "In a similar way, it is possible to define batches of GAMS problems than can be solved in serial or parallel:"
   ]
  },
  {
   "cell_type": "code",
   "execution_count": 19,
   "metadata": {
    "collapsed": false
   },
   "outputs": [],
   "source": [
    "# Get GAMS problems        \n",
    "testProblem1 = GC.getTransportProblem('transport1','dir1')\n",
    "testProblem2 = GC.getTransportProblem('transport2','dir2')\n",
    "\n",
    "testBatch = GC.GAMSProblemBatch([testProblem1,testProblem2])\n",
    "testBatch.erase = True\n",
    "       \n",
    "       \n",
    "# Solve testBatch    \n",
    "with testBatch as batch:\n",
    "    # Run problem(s)\n",
    "    batch.run()\n",
    "\n",
    "    # Check if they are done\n",
    "    batch.waitTilDone()\n",
    "        \n",
    "    # Collect data\n",
    "    batch.collect()\n",
    "        \n",
    "    # Put results in local format \n",
    "    resultsDict = batch.getAllResults()\n",
    "       "
   ]
  },
  {
   "cell_type": "code",
   "execution_count": 20,
   "metadata": {
    "collapsed": false
   },
   "outputs": [
    {
     "name": "stdout",
     "output_type": "stream",
     "text": [
      "Z    =       153.68\n",
      "\n"
     ]
    }
   ],
   "source": [
    "print resultsDict['transport1']['Zout']"
   ]
  },
  {
   "cell_type": "code",
   "execution_count": 21,
   "metadata": {
    "collapsed": false
   },
   "outputs": [
    {
     "name": "stdout",
     "output_type": "stream",
     "text": [
      "Z    =       153.68\n",
      "\n"
     ]
    }
   ],
   "source": [
    "print resultsDict['transport2']['Zout']"
   ]
  }
 ],
 "metadata": {
  "kernelspec": {
   "display_name": "jbeipython2",
   "language": "python",
   "name": "jbeipython2"
  },
  "language_info": {
   "codemirror_mode": {
    "name": "ipython",
    "version": 2
   },
   "file_extension": ".py",
   "mimetype": "text/x-python",
   "name": "python",
   "nbconvert_exporter": "python",
   "pygments_lexer": "ipython2",
   "version": "2.7.9"
  }
 },
 "nbformat": 4,
 "nbformat_minor": 0
}
