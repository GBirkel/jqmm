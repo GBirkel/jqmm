{
 "cells": [
  {
   "cell_type": "markdown",
   "metadata": {},
   "source": [
    "# B2: TCA 13C MFA demo"
   ]
  },
  {
   "cell_type": "markdown",
   "metadata": {},
   "source": [
    "# Intro"
   ]
  },
  {
   "cell_type": "markdown",
   "metadata": {},
   "source": [
    "# Setup"
   ]
  },
  {
   "cell_type": "markdown",
   "metadata": {},
   "source": [
    "First load needed modules:"
   ]
  },
  {
   "cell_type": "code",
   "execution_count": 1,
   "metadata": {
    "collapsed": true
   },
   "outputs": [],
   "source": [
    "%matplotlib inline\n",
    "\n",
    "import sys, os\n",
    "pythonPath = \"/scratch/david.ando/quantmodel/code/core\"\n",
    "if pythonPath not in sys.path:\n",
    "    sys.path.append('/scratch/david.ando/quantmodel/code/core')\n",
    "os.environ[\"QUANTMODELPATH\"] = '/scratch/david.ando/quantmodel'"
   ]
  },
  {
   "cell_type": "code",
   "execution_count": 2,
   "metadata": {
    "collapsed": false
   },
   "outputs": [],
   "source": [
    "%matplotlib inline\n",
    "import os, core, FluxModels, unittest, enhancedLists\n",
    "from IPython.display import SVG"
   ]
  },
  {
   "cell_type": "markdown",
   "metadata": {},
   "source": [
    "Then change to right directory:"
   ]
  },
  {
   "cell_type": "code",
   "execution_count": 3,
   "metadata": {
    "collapsed": false
   },
   "outputs": [
    {
     "name": "stdout",
     "output_type": "stream",
     "text": [
      "/scratch/hgmartin_scratch/tests\n"
     ]
    }
   ],
   "source": [
    "cd /scratch/david.ando/tests"
   ]
  },
  {
   "cell_type": "markdown",
   "metadata": {},
   "source": [
    "Get file names needed to produce sbml file:"
   ]
  },
  {
   "cell_type": "code",
   "execution_count": 4,
   "metadata": {
    "collapsed": false
   },
   "outputs": [],
   "source": [
    "qmodeldir         = os.environ['QUANTMODELPATH']    \n",
    "dirDATA           = qmodeldir+'/data/tests/TCAtoy/' \n",
    "\n",
    "\n",
    "REACTIONSfilename   = dirDATA+'REACTIONStca.txt' \n",
    "FEEDfilename        = dirDATA+'FEEDtca.txt'\n",
    "CEMSfilename        = dirDATA+'GCMStca.txt'\n",
    "CEMSSTDfilename     = dirDATA+'GCMSerrtca.txt'\n",
    "FLUXESFreefilename  = dirDATA+'FLUXtca.txt'"
   ]
  },
  {
   "cell_type": "markdown",
   "metadata": {},
   "source": [
    "Assemble sbml file:"
   ]
  },
  {
   "cell_type": "code",
   "execution_count": 5,
   "metadata": {
    "collapsed": false
   },
   "outputs": [
    {
     "data": {
      "text/plain": [
       "1"
      ]
     },
     "execution_count": 5,
     "metadata": {},
     "output_type": "execute_result"
    }
   ],
   "source": [
    "atomTransitions = enhancedLists.AtomTransitionList(REACTIONSfilename)\n",
    "reactionNetwork = atomTransitions.getReactionNetwork('E. coli wt5h 13C MFA')\n",
    "\n",
    "reactionNetwork.addLabeling(CEMSfilename,'LCMS',CEMSSTDfilename,minSTD=0.001)\n",
    "reactionNetwork.addFeed(FEEDfilename)\n",
    "reactionNetwork.loadFluxBounds(FLUXESFreefilename)\n",
    "\n",
    "reactionNetwork.write('TCA.sbml')  "
   ]
  },
  {
   "cell_type": "markdown",
   "metadata": {},
   "source": [
    "# Flux calculation"
   ]
  },
  {
   "cell_type": "markdown",
   "metadata": {},
   "source": [
    "Load sbml file into model:"
   ]
  },
  {
   "cell_type": "code",
   "execution_count": 6,
   "metadata": {
    "collapsed": false
   },
   "outputs": [],
   "source": [
    "C13model = FluxModels.C13Model('TCA.sbml')   "
   ]
  },
  {
   "cell_type": "markdown",
   "metadata": {},
   "source": [
    "Calculate fluxes:"
   ]
  },
  {
   "cell_type": "code",
   "execution_count": 7,
   "metadata": {
    "collapsed": false
   },
   "outputs": [
    {
     "name": "stdout",
     "output_type": "stream",
     "text": [
      "CPU times: user 1.17 s, sys: 988 ms, total: 2.16 s\n",
      "Wall time: 4.9 s\n"
     ]
    }
   ],
   "source": [
    "%%time\n",
    "results    = C13model.findFluxesStds(Nrep=10, procString='proc', erase=False)"
   ]
  },
  {
   "cell_type": "markdown",
   "metadata": {},
   "source": [
    "Plot results:"
   ]
  },
  {
   "cell_type": "code",
   "execution_count": 8,
   "metadata": {
    "collapsed": false
   },
   "outputs": [
    {
     "data": {
      "image/png": "[encoded data removed]",
      "text/plain": [
       "<matplotlib.figure.Figure at 0x7f1cfa528490>"
      ]
     },
     "metadata": {},
     "output_type": "display_data"
    }
   ],
   "source": [
    "results.plotExpvsCompLabelFragment(titleFig='test',save=\"fitTest.eps\")"
   ]
  },
  {
   "cell_type": "code",
   "execution_count": 9,
   "metadata": {
    "collapsed": false
   },
   "outputs": [
    {
     "name": "stdout",
     "output_type": "stream",
     "text": [
      "Fit:[ 0.34635  0.26953  0.27083  0.08073  0.02865  0.00391]\n",
      "Exp:[ 0.346  0.269  0.27   0.081  0.028  0.004]\n"
     ]
    }
   ],
   "source": [
    "print 'Fit:' +str(results.EMUlabel['Glu'])\n",
    "print 'Exp:' +str(results.fragDict['Glu'].mdv)"
   ]
  },
  {
   "cell_type": "code",
   "execution_count": 10,
   "metadata": {
    "collapsed": false
   },
   "outputs": [
    {
     "name": "stdout",
     "output_type": "stream",
     "text": [
      "co2Out: \t150.0\n",
      "r6: \t125.0\n",
      "r1: \t100.0\n",
      "r2: \t100.0\n",
      "r7: \t75.0\n",
      "r4: \t50.0\n",
      "r5: \t50.0\n",
      "r3: \t50.0\n",
      "r8: \t50.0\n"
     ]
    }
   ],
   "source": [
    "results.reactionNetwork.reactionList.printFluxes(brief=\"False\")"
   ]
  },
  {
   "cell_type": "code",
   "execution_count": null,
   "metadata": {
    "collapsed": true
   },
   "outputs": [],
   "source": []
  }
 ],
 "metadata": {
  "kernelspec": {
   "display_name": "Python 2",
   "language": "python",
   "name": "python2"
  },
  "language_info": {
   "codemirror_mode": {
    "name": "ipython",
    "version": 2
   },
   "file_extension": ".py",
   "mimetype": "text/x-python",
   "name": "python",
   "nbconvert_exporter": "python",
   "pygments_lexer": "ipython2",
   "version": "2.7.9"
  }
 },
 "nbformat": 4,
 "nbformat_minor": 0
}
