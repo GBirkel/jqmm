{
 "cells": [
  {
   "cell_type": "markdown",
   "metadata": {},
   "source": [
    "# A0: jQMM tests notebook"
   ]
  },
  {
   "cell_type": "markdown",
   "metadata": {},
   "source": [
    "# Introduction"
   ]
  },
  {
   "cell_type": "markdown",
   "metadata": {},
   "source": [
    "This notebook contains all tests from the jQMM library compiled into a single notebook, for ease of use."
   ]
  },
  {
   "cell_type": "markdown",
   "metadata": {},
   "source": [
    "# Setup"
   ]
  },
  {
   "cell_type": "code",
   "execution_count": 1,
   "metadata": {
    "collapsed": true
   },
   "outputs": [],
   "source": [
    "%matplotlib inline\n",
    "\n",
    "import sys, os\n",
    "pythonPath = \"/scratch/david.ando/quantmodel/code/core\"\n",
    "if pythonPath not in sys.path:\n",
    "    sys.path.append('/scratch/david.ando/quantmodel/code/core')\n",
    "os.environ[\"QUANTMODELPATH\"] = '/scratch/david.ando/quantmodel'"
   ]
  },
  {
   "cell_type": "code",
   "execution_count": 2,
   "metadata": {
    "collapsed": false
   },
   "outputs": [],
   "source": [
    "import core, ReactionNetworks, FluxModels, GAMSclasses, ToyaData\n",
    "import unittest"
   ]
  },
  {
   "cell_type": "code",
   "execution_count": 3,
   "metadata": {
    "collapsed": false
   },
   "outputs": [
    {
     "name": "stdout",
     "output_type": "stream",
     "text": [
      "/scratch/david.ando/tests\n"
     ]
    }
   ],
   "source": [
    "cd /scratch/david.ando/tests"
   ]
  },
  {
   "cell_type": "markdown",
   "metadata": {},
   "source": [
    "# Tests"
   ]
  },
  {
   "cell_type": "markdown",
   "metadata": {},
   "source": [
    "## Quick tests"
   ]
  },
  {
   "cell_type": "markdown",
   "metadata": {},
   "source": [
    "These tests are quite quick and can be run every time a change is made. However, they do not check the full functionality that only the full tests below cover."
   ]
  },
  {
   "cell_type": "markdown",
   "metadata": {},
   "source": [
    "### GAMSclasses tests"
   ]
  },
  {
   "cell_type": "code",
   "execution_count": 4,
   "metadata": {
    "collapsed": false
   },
   "outputs": [
    {
     "name": "stdout",
     "output_type": "stream",
     "text": [
      "testGAMS (GAMSclasses.testGAMSInstallation)\n",
      "Checks if gams can be called at the command line successfully ... ok\n",
      "testProblem (GAMSclasses.testGAMSProblem)\n",
      "Tests the classic transport problem in GAMS ... ok\n",
      "testBatch (GAMSclasses.testGAMSBatch)\n",
      "Tests the classic transport problem in GAMS in batch mode ... ok\n",
      "\n",
      "----------------------------------------------------------------------\n",
      "Ran 3 tests in 1.335s\n",
      "\n",
      "OK\n"
     ]
    },
    {
     "data": {
      "text/plain": [
       "<unittest.runner.TextTestResult run=3 errors=0 failures=0>"
      ]
     },
     "execution_count": 4,
     "metadata": {},
     "output_type": "execute_result"
    }
   ],
   "source": [
    "GAMStest = unittest.TestSuite()\n",
    "\n",
    "GAMStest.addTest(GAMSclasses.testGAMSInstallation('testGAMS'))\n",
    "\n",
    "GAMStest.addTest(GAMSclasses.testGAMSProblem('testProblem'))\n",
    "\n",
    "GAMStest.addTest(GAMSclasses.testGAMSBatch('testBatch'))\n",
    "\n",
    "\n",
    "\n",
    "unittest.TextTestRunner(stream=sys.stdout,verbosity=2).run(GAMStest)"
   ]
  },
  {
   "cell_type": "markdown",
   "metadata": {},
   "source": [
    "### core tests"
   ]
  },
  {
   "cell_type": "code",
   "execution_count": 5,
   "metadata": {
    "collapsed": false
   },
   "outputs": [
    {
     "name": "stdout",
     "output_type": "stream",
     "text": [
      "testMetabolite (core.testMetabolites)\n",
      "Testing metabolite class ... ok\n",
      "testReactantProduct (core.testMetabolites)\n",
      "Testing reactant, product classes ... ok\n",
      "testPrint (core.testReactions)\n",
      "Tests reaction printing ... ok\n",
      "testDicts (core.testReactions)\n",
      "Tests reaction printing ... ok\n",
      "testEMU (core.testEmus)\n",
      "tests EMU class ... ok\n",
      "testEMUtransition (core.testEmus)\n",
      "tests EMUTransition class ... ok\n",
      "testfindEMUtransition (core.testAtomTransitions) ... ok\n",
      "testfindEMUs (core.testAtomTransitions) ... ok\n",
      "testgetOriginDictionary (core.testAtomTransitions) ... ok\n",
      "testAll (core.testRangedNumbers) ... ok\n",
      "testAll (core.testFlux) ... ok\n",
      "\n",
      "----------------------------------------------------------------------\n",
      "Ran 11 tests in 0.010s\n",
      "\n",
      "OK\n"
     ]
    },
    {
     "data": {
      "text/plain": [
       "<unittest.runner.TextTestResult run=11 errors=0 failures=0>"
      ]
     },
     "execution_count": 5,
     "metadata": {},
     "output_type": "execute_result"
    }
   ],
   "source": [
    "COREtest = unittest.TestSuite()\n",
    "\n",
    "COREtest.addTest(core.testMetabolites('testMetabolite'))\n",
    "COREtest.addTest(core.testMetabolites('testReactantProduct'))\n",
    "\n",
    "COREtest.addTest(core.testReactions('testPrint'))\n",
    "COREtest.addTest(core.testReactions('testDicts'))\n",
    "\n",
    "COREtest.addTest(core.testEmus('testEMU'))\n",
    "COREtest.addTest(core.testEmus('testEMUtransition'))\n",
    "\n",
    "COREtest.addTest(core.testAtomTransitions('testfindEMUtransition'))\n",
    "COREtest.addTest(core.testAtomTransitions('testfindEMUs'))\n",
    "COREtest.addTest(core.testAtomTransitions('testgetOriginDictionary'))\n",
    "\n",
    "COREtest.addTest(core.testRangedNumbers('testAll'))\n",
    "\n",
    "COREtest.addTest(core.testFlux('testAll'))\n",
    "\n",
    "\n",
    "\n",
    "unittest.TextTestRunner(stream=sys.stdout,verbosity=2).run(COREtest)"
   ]
  },
  {
   "cell_type": "markdown",
   "metadata": {},
   "source": [
    "### ReactionNetworks tests"
   ]
  },
  {
   "cell_type": "code",
   "execution_count": null,
   "metadata": {
    "collapsed": false,
    "scrolled": true
   },
   "outputs": [
    {
     "name": "stdout",
     "output_type": "stream",
     "text": [
      "testRxnsMets (ReactionNetworks.testRN)\n",
      "Testing expected reactions and metabolites in basic usage ... ok\n",
      "testAddReaction (ReactionNetworks.testRN)\n",
      "Testing result of adding reactions ... ok\n",
      "testChangeFluxBounds (ReactionNetworks.testRN)\n",
      "Testing changeFluxBounds in basic usage ... ok\n",
      "testAddFeedLabel (ReactionNetworks.testC13RN)\n",
      "Testing Adding feed and labeling ... ok\n",
      "testAddtransitions (ReactionNetworks.testTSRN)\n",
      "Testing adding transitions to genome-scale ... ok\n",
      "testFull (ToyaData.testInputFiles)\n",
      "Tests all of the strains ... ok\n",
      "testFull (ToyaData.testOptimizationFiles)\n",
      "Tests all of the strains ... ok\n",
      "\n",
      "----------------------------------------------------------------------\n",
      "Ran 7 tests in 189.580s\n",
      "\n",
      "OK\n"
     ]
    },
    {
     "data": {
      "text/plain": [
       "<unittest.runner.TextTestResult run=7 errors=0 failures=0>"
      ]
     },
     "execution_count": 6,
     "metadata": {},
     "output_type": "execute_result"
    }
   ],
   "source": [
    "RNtest = unittest.TestSuite()\n",
    "\n",
    "RNtest.addTest(ReactionNetworks.testRN('testRxnsMets'))\n",
    "RNtest.addTest(ReactionNetworks.testRN('testAddReaction'))\n",
    "RNtest.addTest(ReactionNetworks.testRN('testChangeFluxBounds'))\n",
    "\n",
    "RNtest.addTest(ReactionNetworks.testC13RN('testAddFeedLabel'))\n",
    "\n",
    "RNtest.addTest(ReactionNetworks.testTSRN('testAddtransitions'))\n",
    "\n",
    "RNtest.addTest(ToyaData.testInputFiles('testFull'))\n",
    "RNtest.addTest(ToyaData.testOptimizationFiles('testFull'))\n",
    "\n",
    "\n",
    "\n",
    "unittest.TextTestRunner(stream=sys.stdout,verbosity=2).run(RNtest)"
   ]
  },
  {
   "cell_type": "markdown",
   "metadata": {},
   "source": [
    "### FluxModels tests\n"
   ]
  },
  {
   "cell_type": "code",
   "execution_count": null,
   "metadata": {
    "collapsed": false
   },
   "outputs": [
    {
     "name": "stdout",
     "output_type": "stream",
     "text": [
      "testFBA (FluxModels.FBAtests)\n",
      "Checks results from FBA ... ok\n",
      "testFVA (FluxModels.FBAtests)\n",
      "Checks results from FVA ... ok\n",
      "testTCAtoy (FluxModels.C13MFAtests)\n",
      "Checks results from FBA ... ok\n",
      "testToya2010 (FluxModels.C13MFAtests)\n",
      "Checks results from FBA ... FAIL\n",
      "testQuick (ToyaData.testTSFluxCalculation)\n",
      "Only tests the first of the strains ... \n",
      "Testing strain: wt5h\n",
      "\n",
      "FAIL\n",
      "testQuick (ToyaData.testELVA)\n",
      "Quick test for wt5h only ... "
     ]
    }
   ],
   "source": [
    "FMtest = unittest.TestSuite()\n",
    " \n",
    "FMtest.addTest(FluxModels.FBAtests('testFBA'))\n",
    "FMtest.addTest(FluxModels.FBAtests('testFVA'))\n",
    "\n",
    "FMtest.addTest(FluxModels.C13MFAtests('testTCAtoy'))\n",
    "FMtest.addTest(FluxModels.C13MFAtests('testToya2010'))\n",
    "\n",
    "FMtest.addTest(ToyaData.testTSFluxCalculation('testQuick'))\n",
    "FMtest.addTest(ToyaData.testELVA('testQuick'))\n",
    "FMtest.addTest(ToyaData.testConstPower('testQuick'))\n",
    "\n",
    "\n",
    "unittest.TextTestRunner(stream=sys.stdout,verbosity=2).run(FMtest)"
   ]
  },
  {
   "cell_type": "markdown",
   "metadata": {},
   "source": [
    "### Predictions"
   ]
  },
  {
   "cell_type": "code",
   "execution_count": null,
   "metadata": {
    "collapsed": false
   },
   "outputs": [],
   "source": [
    "Ptest = unittest.TestSuite()\n",
    " \n",
    "Ptest.addTest(ToyaData.testPredictions('testQuick'))\n",
    "#Ptest.addTest(ToyaData.testPredictions('refreshSavedFiles'))\n",
    "\n",
    "unittest.TextTestRunner(stream=sys.stdout,verbosity=2).run(Ptest)"
   ]
  },
  {
   "cell_type": "markdown",
   "metadata": {},
   "source": [
    "## Full tests"
   ]
  },
  {
   "cell_type": "markdown",
   "metadata": {
    "collapsed": true
   },
   "source": [
    "### FluxModels tests"
   ]
  },
  {
   "cell_type": "code",
   "execution_count": null,
   "metadata": {
    "collapsed": false
   },
   "outputs": [],
   "source": [
    "FMtest = unittest.TestSuite()\n",
    " \n",
    "FMtest.addTest(ToyaData.testTSFluxCalculation('testFull'))\n",
    "\n",
    "\n",
    "unittest.TextTestRunner(stream=sys.stdout,verbosity=2).run(FMtest)"
   ]
  }
 ],
 "metadata": {
  "kernelspec": {
   "display_name": "jbeipython2",
   "language": "python",
   "name": "jbeipython2"
  },
  "language_info": {
   "codemirror_mode": {
    "name": "ipython",
    "version": 2
   },
   "file_extension": ".py",
   "mimetype": "text/x-python",
   "name": "python",
   "nbconvert_exporter": "python",
   "pygments_lexer": "ipython2",
   "version": "2.7.9"
  }
 },
 "nbformat": 4,
 "nbformat_minor": 0
}
