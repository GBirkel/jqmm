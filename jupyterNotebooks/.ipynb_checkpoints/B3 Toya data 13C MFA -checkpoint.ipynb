{
 "cells": [
  {
   "cell_type": "markdown",
   "metadata": {},
   "source": [
    "# B3: Toya Data 13C MFA "
   ]
  },
  {
   "cell_type": "markdown",
   "metadata": {},
   "source": [
    "# Intro"
   ]
  },
  {
   "cell_type": "markdown",
   "metadata": {},
   "source": [
    "# Setup"
   ]
  },
  {
   "cell_type": "markdown",
   "metadata": {},
   "source": [
    "First load needed modules:"
   ]
  },
  {
   "cell_type": "code",
   "execution_count": 1,
   "metadata": {
    "collapsed": true
   },
   "outputs": [],
   "source": [
    "%matplotlib inline\n",
    "\n",
    "import sys, os\n",
    "pythonPath = \"/scratch/david.ando/quantmodel/code/core\"\n",
    "if pythonPath not in sys.path:\n",
    "    sys.path.append('/scratch/david.ando/quantmodel/code/core')\n",
    "os.environ[\"QUANTMODELPATH\"] = '/scratch/david.ando/quantmodel'"
   ]
  },
  {
   "cell_type": "code",
   "execution_count": 2,
   "metadata": {
    "collapsed": false
   },
   "outputs": [
    {
     "ename": "ImportError",
     "evalue": "No module named core",
     "output_type": "error",
     "traceback": [
      "\u001b[1;31m---------------------------------------------------------------------------\u001b[0m",
      "\u001b[1;31mImportError\u001b[0m                               Traceback (most recent call last)",
      "\u001b[1;32m<ipython-input-2-599370865f41>\u001b[0m in \u001b[0;36m<module>\u001b[1;34m()\u001b[0m\n\u001b[0;32m      1\u001b[0m \u001b[0mget_ipython\u001b[0m\u001b[1;33m(\u001b[0m\u001b[1;33m)\u001b[0m\u001b[1;33m.\u001b[0m\u001b[0mmagic\u001b[0m\u001b[1;33m(\u001b[0m\u001b[1;34mu'matplotlib inline'\u001b[0m\u001b[1;33m)\u001b[0m\u001b[1;33m\u001b[0m\u001b[0m\n\u001b[1;32m----> 2\u001b[1;33m \u001b[1;32mimport\u001b[0m \u001b[0mos\u001b[0m\u001b[1;33m,\u001b[0m \u001b[0mcore\u001b[0m\u001b[1;33m,\u001b[0m \u001b[0mFluxModels\u001b[0m\u001b[1;33m,\u001b[0m \u001b[0munittest\u001b[0m\u001b[1;33m,\u001b[0m \u001b[0menhancedLists\u001b[0m\u001b[1;33m\u001b[0m\u001b[0m\n\u001b[0m\u001b[0;32m      3\u001b[0m \u001b[1;32mfrom\u001b[0m \u001b[0mIPython\u001b[0m\u001b[1;33m.\u001b[0m\u001b[0mdisplay\u001b[0m \u001b[1;32mimport\u001b[0m \u001b[0mSVG\u001b[0m\u001b[1;33m\u001b[0m\u001b[0m\n",
      "\u001b[1;31mImportError\u001b[0m: No module named core"
     ]
    }
   ],
   "source": [
    "%matplotlib inline\n",
    "import os, core, FluxModels, unittest, enhancedLists\n",
    "from IPython.display import SVG"
   ]
  },
  {
   "cell_type": "markdown",
   "metadata": {},
   "source": [
    "Then change to right directory:"
   ]
  },
  {
   "cell_type": "code",
   "execution_count": null,
   "metadata": {
    "collapsed": false
   },
   "outputs": [],
   "source": [
    "cd /scratch/hgmartin_scratch/tests"
   ]
  },
  {
   "cell_type": "markdown",
   "metadata": {},
   "source": [
    "## Flux calculation "
   ]
  },
  {
   "cell_type": "code",
   "execution_count": null,
   "metadata": {
    "collapsed": false
   },
   "outputs": [],
   "source": [
    "import os\n",
    "strain = 'wt5h'\n",
    "qmodeldir         = os.environ['QUANTMODELPATH']    \n",
    "dirDATA           = qmodeldir+'/data/tests/Toya2010/C13/'+strain+'/' \n",
    "    \n",
    "# Get sbml file\n",
    "REACTIONSfilename   = dirDATA + 'REACTIONS'+strain+'.txt' \n",
    "FEEDfilename        = dirDATA + 'FEED'+strain+'.txt'\n",
    "CEMSfilename        = dirDATA + 'GCMS'+strain+'.txt'\n",
    "CEMSSTDfilename     = dirDATA + 'GCMSerr'+strain+'.txt'\n",
    "FLUXESFreefilename  = dirDATA + 'FLUX'+strain+'.txt'\n",
    "\n",
    "atomTransitions = enhancedLists.atomTransitionList(REACTIONSfilename)\n",
    "reactionNetwork = atomTransitions.getReactionNetwork('E. coli wt5h 13C MFA')\n",
    "reactionNetwork.addLabeling(CEMSfilename,'LCMS',CEMSSTDfilename,minSTD=0.001)\n",
    "reactionNetwork.addFeed(FEEDfilename)\n",
    "reactionNetwork.loadFluxBounds(FLUXESFreefilename)\n",
    "    \n",
    "names = ['2DDA7Pbm','3PHPbm','ACACCT','ALAbm','AcCoabm','CO2bm','F6Pbm','G6Pbm'\n",
    "         ,'GLCpts','GLUbm','OAAbm','PEPbm','PYRbm','R5Pbm','VALbm']\n",
    "reactionNetwork.write('TOYAnew.sbml')    \n",
    "\n",
    "# Get FIT fluxes\n",
    "C13modelNew = FluxModels.C13Model('TOYAnew.sbml')   \n",
    "C13modelNew.reactionNetwork.fixFluxes(names)\n",
    "fluxNames = C13modelNew.reactionNetwork.reactionList.getReactionNameList(level=1)\n",
    "resultsNew = C13modelNew.findFluxesRanges(Nrep=10,fluxNames=fluxNames, procString='proc') \n",
    "\n"
   ]
  },
  {
   "cell_type": "code",
   "execution_count": null,
   "metadata": {
    "collapsed": false
   },
   "outputs": [],
   "source": [
    "#Draw map\n",
    "resultsNew.drawFluxes('ecoli'+strain+'New13C.svg',svgInFileName='TOYA13CMFA.svg',norm='GLCpts',oldVersion=True)\n",
    "        \n",
    "# Show map\n",
    "SVG(filename='ecoli'+strain+'New13C.svg')        "
   ]
  },
  {
   "cell_type": "code",
   "execution_count": null,
   "metadata": {
    "collapsed": false
   },
   "outputs": [],
   "source": [
    "resultsNew.reactionNetwork.reactionList.printFluxes(brief=\"False\")"
   ]
  },
  {
   "cell_type": "code",
   "execution_count": null,
   "metadata": {
    "collapsed": false
   },
   "outputs": [],
   "source": [
    "print 'Fit:' +str(resultsNew.EMUlabel['fdp'])\n",
    "print 'Exp:' +str(resultsNew.fragDict['fdp'].mdv)"
   ]
  },
  {
   "cell_type": "code",
   "execution_count": null,
   "metadata": {
    "collapsed": false
   },
   "outputs": [],
   "source": [
    "print 'Fit:' +str(resultsNew.EMUlabel['pep'])\n",
    "print 'Exp:' +str(resultsNew.fragDict['pep'].mdv)"
   ]
  }
 ],
 "metadata": {
  "kernelspec": {
   "display_name": "jbeipython2",
   "language": "python",
   "name": "jbeipython2"
  },
  "language_info": {
   "codemirror_mode": {
    "name": "ipython",
    "version": 2
   },
   "file_extension": ".py",
   "mimetype": "text/x-python",
   "name": "python",
   "nbconvert_exporter": "python",
   "pygments_lexer": "ipython2",
   "version": "2.7.9"
  }
 },
 "nbformat": 4,
 "nbformat_minor": 0
}
