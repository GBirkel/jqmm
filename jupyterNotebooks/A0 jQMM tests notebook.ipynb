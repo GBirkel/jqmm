{
 "cells": [
  {
   "cell_type": "markdown",
   "metadata": {},
   "source": [
    "# A0: jQMM tests notebook"
   ]
  },
  {
   "cell_type": "markdown",
   "metadata": {},
   "source": [
    "# Introduction"
   ]
  },
  {
   "cell_type": "markdown",
   "metadata": {},
   "source": [
    "This notebook contains all unit tests fof the jQMM library compiled into a single notebook, for ease of use."
   ]
  },
  {
   "cell_type": "markdown",
   "metadata": {},
   "source": [
    "# Setup"
   ]
  },
  {
   "cell_type": "markdown",
   "metadata": {},
   "source": [
    "First set environment and path variables properly:"
   ]
  },
  {
   "cell_type": "code",
   "execution_count": 1,
   "metadata": {
    "collapsed": true
   },
   "outputs": [],
   "source": [
    "quantmodelDir = '/users/hgmartin/libraries/quantmodel'"
   ]
  },
  {
   "cell_type": "markdown",
   "metadata": {},
   "source": [
    "This is the only place where the jQMM library path needs to be set."
   ]
  },
  {
   "cell_type": "code",
   "execution_count": 2,
   "metadata": {
    "collapsed": true
   },
   "outputs": [],
   "source": [
    "%matplotlib inline\n",
    "\n",
    "import sys, os\n",
    "pythonPath = quantmodelDir+\"/code/core\"\n",
    "if pythonPath not in sys.path:\n",
    "    sys.path.append(pythonPath)\n",
    "os.environ[\"QUANTMODELPATH\"] = quantmodelDir"
   ]
  },
  {
   "cell_type": "markdown",
   "metadata": {},
   "source": [
    "Then import needed modules:"
   ]
  },
  {
   "cell_type": "code",
   "execution_count": 3,
   "metadata": {
    "collapsed": false
   },
   "outputs": [],
   "source": [
    "import core, ReactionNetworks, FluxModels, GAMSclasses, ToyaData\n",
    "import unittest"
   ]
  },
  {
   "cell_type": "code",
   "execution_count": 4,
   "metadata": {
    "collapsed": false
   },
   "outputs": [
    {
     "name": "stdout",
     "output_type": "stream",
     "text": [
      "/scratch/hgmartin_scratch/tests\n"
     ]
    }
   ],
   "source": [
    "cd /scratch/hgmartin_scratch/tests"
   ]
  },
  {
   "cell_type": "markdown",
   "metadata": {},
   "source": [
    "# Tests"
   ]
  },
  {
   "cell_type": "markdown",
   "metadata": {},
   "source": [
    "## Quick tests"
   ]
  },
  {
   "cell_type": "markdown",
   "metadata": {},
   "source": [
    "These tests are quite quick and can be run every time a change is made. However, they do not check the full functionality that only the full tests below cover."
   ]
  },
  {
   "cell_type": "markdown",
   "metadata": {},
   "source": [
    "### GAMSclasses tests"
   ]
  },
  {
   "cell_type": "code",
   "execution_count": 5,
   "metadata": {
    "collapsed": false
   },
   "outputs": [
    {
     "name": "stdout",
     "output_type": "stream",
     "text": [
      "testGAMS (GAMSclasses.testGAMSInstallation)\n",
      "Checks if gams can be called at the command line successfully ... ok\n",
      "testProblem (GAMSclasses.testGAMSProblem)\n",
      "Tests the classic transport problem in GAMS ... ok\n",
      "testBatch (GAMSclasses.testGAMSBatch)\n",
      "Tests the classic transport problem in GAMS in batch mode ... ok\n",
      "\n",
      "----------------------------------------------------------------------\n",
      "Ran 3 tests in 1.379s\n",
      "\n",
      "OK\n"
     ]
    },
    {
     "data": {
      "text/plain": [
       "<unittest.runner.TextTestResult run=3 errors=0 failures=0>"
      ]
     },
     "execution_count": 5,
     "metadata": {},
     "output_type": "execute_result"
    }
   ],
   "source": [
    "GAMStest = unittest.TestSuite()\n",
    "\n",
    "GAMStest.addTest(GAMSclasses.testGAMSInstallation('testGAMS'))\n",
    "\n",
    "GAMStest.addTest(GAMSclasses.testGAMSProblem('testProblem'))\n",
    "\n",
    "GAMStest.addTest(GAMSclasses.testGAMSBatch('testBatch'))\n",
    "\n",
    "\n",
    "\n",
    "unittest.TextTestRunner(stream=sys.stdout,verbosity=2).run(GAMStest)"
   ]
  },
  {
   "cell_type": "markdown",
   "metadata": {},
   "source": [
    "### core tests"
   ]
  },
  {
   "cell_type": "code",
   "execution_count": 6,
   "metadata": {
    "collapsed": false
   },
   "outputs": [
    {
     "name": "stdout",
     "output_type": "stream",
     "text": [
      "testMetabolite (core.testMetabolites)\n",
      "Testing metabolite class ... ok\n",
      "testReactantProduct (core.testMetabolites)\n",
      "Testing reactant, product classes ... ok\n",
      "testPrint (core.testReactions)\n",
      "Tests reaction printing ... ok\n",
      "testDicts (core.testReactions)\n",
      "Tests reaction printing ... ok\n",
      "testEMU (core.testEmus)\n",
      "tests EMU class ... ok\n",
      "testEMUtransition (core.testEmus)\n",
      "tests EMUTransition class ... ok\n",
      "testfindEMUtransition (core.testAtomTransitions) ... ok\n",
      "testfindEMUs (core.testAtomTransitions) ... ok\n",
      "testgetOriginDictionary (core.testAtomTransitions) ... ok\n",
      "testAll (core.testRangedNumbers) ... ok\n",
      "testAll (core.testFlux) ... ok\n",
      "\n",
      "----------------------------------------------------------------------\n",
      "Ran 11 tests in 0.009s\n",
      "\n",
      "OK\n"
     ]
    },
    {
     "data": {
      "text/plain": [
       "<unittest.runner.TextTestResult run=11 errors=0 failures=0>"
      ]
     },
     "execution_count": 6,
     "metadata": {},
     "output_type": "execute_result"
    }
   ],
   "source": [
    "COREtest = unittest.TestSuite()\n",
    "\n",
    "COREtest.addTest(core.testMetabolites('testMetabolite'))\n",
    "COREtest.addTest(core.testMetabolites('testReactantProduct'))\n",
    "\n",
    "COREtest.addTest(core.testReactions('testPrint'))\n",
    "COREtest.addTest(core.testReactions('testDicts'))\n",
    "\n",
    "COREtest.addTest(core.testEmus('testEMU'))\n",
    "COREtest.addTest(core.testEmus('testEMUtransition'))\n",
    "\n",
    "COREtest.addTest(core.testAtomTransitions('testfindEMUtransition'))\n",
    "COREtest.addTest(core.testAtomTransitions('testfindEMUs'))\n",
    "COREtest.addTest(core.testAtomTransitions('testgetOriginDictionary'))\n",
    "\n",
    "COREtest.addTest(core.testRangedNumbers('testAll'))\n",
    "\n",
    "COREtest.addTest(core.testFlux('testAll'))\n",
    "\n",
    "\n",
    "\n",
    "unittest.TextTestRunner(stream=sys.stdout,verbosity=2).run(COREtest)"
   ]
  },
  {
   "cell_type": "markdown",
   "metadata": {},
   "source": [
    "### ReactionNetworks tests"
   ]
  },
  {
   "cell_type": "code",
   "execution_count": 7,
   "metadata": {
    "collapsed": false,
    "scrolled": false
   },
   "outputs": [
    {
     "name": "stdout",
     "output_type": "stream",
     "text": [
      "testRxnsMets (ReactionNetworks.testRN)\n",
      "Testing expected reactions and metabolites in basic usage ... ok\n",
      "testAddReaction (ReactionNetworks.testRN)\n",
      "Testing result of adding reactions ... ok\n",
      "testChangeFluxBounds (ReactionNetworks.testRN)\n",
      "Testing changeFluxBounds in basic usage ... ok\n",
      "testAddFeedLabel (ReactionNetworks.testC13RN)\n",
      "Testing Adding feed and labeling ... ok\n",
      "testAddtransitions (ReactionNetworks.testTSRN)\n",
      "Testing adding transitions to genome-scale ... ok\n",
      "testFull (ToyaData.testInputFiles)\n",
      "Tests all of the strains ... ok\n",
      "testFull (ToyaData.testOptimizationFiles)\n",
      "Tests all of the strains ... ok\n",
      "\n",
      "----------------------------------------------------------------------\n",
      "Ran 7 tests in 189.815s\n",
      "\n",
      "OK\n"
     ]
    },
    {
     "data": {
      "text/plain": [
       "<unittest.runner.TextTestResult run=7 errors=0 failures=0>"
      ]
     },
     "execution_count": 7,
     "metadata": {},
     "output_type": "execute_result"
    }
   ],
   "source": [
    "RNtest = unittest.TestSuite()\n",
    "\n",
    "RNtest.addTest(ReactionNetworks.testRN('testRxnsMets'))\n",
    "RNtest.addTest(ReactionNetworks.testRN('testAddReaction'))\n",
    "RNtest.addTest(ReactionNetworks.testRN('testChangeFluxBounds'))\n",
    "\n",
    "RNtest.addTest(ReactionNetworks.testC13RN('testAddFeedLabel'))\n",
    "\n",
    "RNtest.addTest(ReactionNetworks.testTSRN('testAddtransitions'))\n",
    "\n",
    "RNtest.addTest(ToyaData.testInputFiles('testFull'))\n",
    "#RNtest.addTest(ToyaData.testInputFiles('refreshSavedFiles'))\n",
    "\n",
    "RNtest.addTest(ToyaData.testOptimizationFiles('testFull'))\n",
    "#RNtest.addTest(ToyaData.testOptimizationFiles('refreshSavedFiles'))\n",
    "\n",
    "\n",
    "\n",
    "unittest.TextTestRunner(stream=sys.stdout,verbosity=2).run(RNtest)"
   ]
  },
  {
   "cell_type": "markdown",
   "metadata": {},
   "source": [
    "### FluxModels tests\n"
   ]
  },
  {
   "cell_type": "code",
   "execution_count": 8,
   "metadata": {
    "collapsed": false
   },
   "outputs": [
    {
     "name": "stdout",
     "output_type": "stream",
     "text": [
      "testFBA (FluxModels.FBAtests)\n",
      "Checks results from FBA ... ok\n",
      "testFVA (FluxModels.FBAtests)\n",
      "Checks results from FVA ... ok\n",
      "testTCAtoy (FluxModels.C13MFAtests)\n",
      "Checks results from TCA toy model ... ok\n",
      "testToya2010 (FluxModels.C13MFAtests)\n",
      "Checks results using Toya 2010 data ... ok\n",
      "testQuick (ToyaData.testTSFluxCalculation)\n",
      "Only tests the first of the strains ... \n",
      "Testing strain: wt5h\n",
      "\n",
      "ok\n",
      "testQuick (ToyaData.testELVA)\n",
      "Quick test for wt5h only ... ok\n",
      "testQuick (ToyaData.testConstPower)\n",
      "Quick test for wt5h only ... ok\n",
      "\n",
      "----------------------------------------------------------------------\n",
      "Ran 7 tests in 4361.318s\n",
      "\n",
      "OK\n"
     ]
    },
    {
     "data": {
      "text/plain": [
       "<unittest.runner.TextTestResult run=7 errors=0 failures=0>"
      ]
     },
     "execution_count": 8,
     "metadata": {},
     "output_type": "execute_result"
    }
   ],
   "source": [
    "FMtest = unittest.TestSuite()\n",
    " \n",
    "FMtest.addTest(FluxModels.FBAtests('testFBA'))\n",
    "FMtest.addTest(FluxModels.FBAtests('testFVA'))\n",
    "\n",
    "FMtest.addTest(FluxModels.C13MFAtests('testTCAtoy'))\n",
    "FMtest.addTest(FluxModels.C13MFAtests('testToya2010'))\n",
    "\n",
    "FMtest.addTest(ToyaData.testTSFluxCalculation('testQuick'))\n",
    "#FMtest.addTest(ToyaData.testTSFluxCalculation('refreshSavedFiles'))\n",
    "FMtest.addTest(ToyaData.testELVA('testQuick'))\n",
    "FMtest.addTest(ToyaData.testConstPower('testQuick'))\n",
    "\n",
    "\n",
    "unittest.TextTestRunner(stream=sys.stdout,verbosity=2).run(FMtest)"
   ]
  },
  {
   "cell_type": "markdown",
   "metadata": {},
   "source": [
    "### Predictions"
   ]
  },
  {
   "cell_type": "code",
   "execution_count": 9,
   "metadata": {
    "collapsed": false
   },
   "outputs": [
    {
     "name": "stdout",
     "output_type": "stream",
     "text": [
      "testQuick (ToyaData.testPredictions)\n",
      "Quick test for pyk5h only ... ok\n",
      "\n",
      "----------------------------------------------------------------------\n",
      "Ran 1 test in 1292.293s\n",
      "\n",
      "OK\n"
     ]
    },
    {
     "data": {
      "text/plain": [
       "<unittest.runner.TextTestResult run=1 errors=0 failures=0>"
      ]
     },
     "execution_count": 9,
     "metadata": {},
     "output_type": "execute_result"
    }
   ],
   "source": [
    "Ptest = unittest.TestSuite()\n",
    " \n",
    "Ptest.addTest(ToyaData.testPredictions('testQuick'))\n",
    "#Ptest.addTest(ToyaData.testPredictions('refreshSavedFiles'))\n",
    "\n",
    "unittest.TextTestRunner(stream=sys.stdout,verbosity=2).run(Ptest)"
   ]
  },
  {
   "cell_type": "markdown",
   "metadata": {},
   "source": [
    "## Full tests"
   ]
  },
  {
   "cell_type": "markdown",
   "metadata": {
    "collapsed": true
   },
   "source": [
    "### FluxModels tests"
   ]
  },
  {
   "cell_type": "code",
   "execution_count": 10,
   "metadata": {
    "collapsed": false,
    "scrolled": false
   },
   "outputs": [
    {
     "name": "stdout",
     "output_type": "stream",
     "text": [
      "testFull (ToyaData.testTSFluxCalculation)\n",
      "Test all strains ... \n",
      "Testing strain: wt5h\n",
      "\n",
      "\n",
      "Testing strain: wt6h\n",
      "\n",
      "\n",
      "Testing strain: wt7h\n",
      "\n",
      "\n",
      "Testing strain: pyk5h\n",
      "\n",
      "\n",
      "Testing strain: pyk6h\n",
      "\n",
      "\n",
      "Testing strain: pyk7h\n",
      "\n",
      "\n",
      "Testing strain: pgi16h\n",
      "\n",
      "\n",
      "Testing strain: pgi21h\n",
      "\n",
      "\n",
      "Testing strain: pgi23h\n",
      "\n",
      "FAIL\n",
      "\n",
      "======================================================================\n",
      "FAIL: testFull (ToyaData.testTSFluxCalculation)\n",
      "Test all strains\n",
      "----------------------------------------------------------------------\n",
      "Traceback (most recent call last):\n",
      "  File \"/users/hgmartin/libraries/quantmodel/code/core/ToyaData.py\", line 294, in testFull\n",
      "    self.assertTrue(AllCasesWork,msg=errmsg)\n",
      "AssertionError: \n",
      "Strain:pyk5h\n",
      "\n",
      "Flux AKGDH changed from: \n",
      "[0:0.36471019:0.99286] to: \n",
      "[0:0:1.11912]\n",
      "Flux EX_fum_e_ changed from: \n",
      "[0:0:2.1368] to: \n",
      "[0:0:2.53215]\n",
      "Flux THD2 changed from: \n",
      "[1.95049:2.69433729906:17.71472] to: \n",
      "[1.75855:2.98213982546:19.07007]\n",
      "\n",
      "\n",
      "\n",
      "----------------------------------------------------------------------\n",
      "Ran 1 test in 9910.972s\n",
      "\n",
      "FAILED (failures=1)\n"
     ]
    },
    {
     "data": {
      "text/plain": [
       "<unittest.runner.TextTestResult run=1 errors=0 failures=1>"
      ]
     },
     "execution_count": 10,
     "metadata": {},
     "output_type": "execute_result"
    }
   ],
   "source": [
    "FMtest = unittest.TestSuite()\n",
    " \n",
    "FMtest.addTest(ToyaData.testTSFluxCalculation('testFull'))\n",
    "\n",
    "unittest.TextTestRunner(stream=sys.stdout,verbosity=2).run(FMtest)"
   ]
  },
  {
   "cell_type": "markdown",
   "metadata": {},
   "source": [
    "Because of the stochastic nature of the optimization algorithm, some results are not always repeated exactly. In this case AKGDH flux changed from [0, 0.36, 0.99] \\[lowest compatible with 13C data, best fit, highest\\] to [0, 0, 1.11]. This is not terribly unexpected: the flux value is expected to be anything between 0.0 and 0.99, so a shift from 0.36 to 0.0 is not surprising. Also, the upper bound changed from 0.99 to 1.11 which is a bit more than the 10% allowed by the unit test before calling it a failed test. That 10% is arbitrary, a 15% would be equally acceptable given the stochastic nature of the algorithm. Similar reasoning can be applied to EX_fum_e and THD2."
   ]
  }
 ],
 "metadata": {
  "kernelspec": {
   "display_name": "jbeipython2",
   "language": "python",
   "name": "jbeipython2"
  },
  "language_info": {
   "codemirror_mode": {
    "name": "ipython",
    "version": 2
   },
   "file_extension": ".py",
   "mimetype": "text/x-python",
   "name": "python",
   "nbconvert_exporter": "python",
   "pygments_lexer": "ipython2",
   "version": "2.7.9"
  }
 },
 "nbformat": 4,
 "nbformat_minor": 0
}
