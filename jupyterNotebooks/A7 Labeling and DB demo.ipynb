{
 "cells": [
  {
   "cell_type": "markdown",
   "metadata": {},
   "source": [
    "# A7: labeling and DB demo"
   ]
  },
  {
   "cell_type": "markdown",
   "metadata": {},
   "source": [
    "# Introduction"
   ]
  },
  {
   "cell_type": "markdown",
   "metadata": {},
   "source": [
    "This notebook describes the classes contained in the 'labeling' and 'DB' modules. 'labeling' contains all classes related to dealing with labeling patterns and 'DB' is a database with MS fragment information and other hard-coded parameters. "
   ]
  },
  {
   "cell_type": "markdown",
   "metadata": {},
   "source": [
    "# Setup"
   ]
  },
  {
   "cell_type": "markdown",
   "metadata": {},
   "source": [
    "First, we need to set the path and environment variable properly:"
   ]
  },
  {
   "cell_type": "code",
   "execution_count": 1,
   "metadata": {
    "collapsed": true
   },
   "outputs": [],
   "source": [
    "quantmodelDir = '/users/hgmartin/libraries/quantmodel'"
   ]
  },
  {
   "cell_type": "markdown",
   "metadata": {},
   "source": [
    "This is the only place where the jQMM library path needs to be set."
   ]
  },
  {
   "cell_type": "code",
   "execution_count": 2,
   "metadata": {
    "collapsed": true
   },
   "outputs": [],
   "source": [
    "%matplotlib inline\n",
    "\n",
    "import sys, os\n",
    "pythonPath = quantmodelDir+\"/code/core\"\n",
    "if pythonPath not in sys.path:\n",
    "    sys.path.append(pythonPath)\n",
    "os.environ[\"QUANTMODELPATH\"] = quantmodelDir"
   ]
  },
  {
   "cell_type": "markdown",
   "metadata": {},
   "source": [
    "Importing the required modules for the demo:"
   ]
  },
  {
   "cell_type": "code",
   "execution_count": 3,
   "metadata": {
    "collapsed": false
   },
   "outputs": [],
   "source": [
    "import core, labeling, DB"
   ]
  },
  {
   "cell_type": "markdown",
   "metadata": {},
   "source": [
    "# Classes description "
   ]
  },
  {
   "cell_type": "markdown",
   "metadata": {},
   "source": [
    "## labeling module"
   ]
  },
  {
   "cell_type": "markdown",
   "metadata": {},
   "source": [
    "The labeling module contains all classes related to working with labeling patterns of Mass Distribution Vectors (e.g. fraction of molecules with 0,1,2,3.... labeled carbons)"
   ]
  },
  {
   "cell_type": "markdown",
   "metadata": {},
   "source": [
    "### LC-MS and CE-MS classes"
   ]
  },
  {
   "cell_type": "markdown",
   "metadata": {},
   "source": [
    "*LCMSLabelData* and *CEMSLabelData* classes store LC-MS and CE-MS MDVs respectively. They have the same functionality at this time, but are provided in case LC-MS or CE-MS specific functions are needed in the future.\n",
    "\n",
    "The LCMS or CEMS classes can initialized with a MDV line of the type:\n"
   ]
  },
  {
   "cell_type": "code",
   "execution_count": 4,
   "metadata": {
    "collapsed": false
   },
   "outputs": [],
   "source": [
    "LCMS = labeling.LCMSLabelData('fdp\tM-0\t0.381 \t0.244 \t0.081 \t0.116\t     0.041\t     0.017\t   0.119\t  -\t     -\t -')"
   ]
  },
  {
   "cell_type": "markdown",
   "metadata": {},
   "source": [
    "The **getLine** function gives back the original initialization line:"
   ]
  },
  {
   "cell_type": "code",
   "execution_count": 5,
   "metadata": {
    "collapsed": false
   },
   "outputs": [
    {
     "name": "stdout",
     "output_type": "stream",
     "text": [
      "fdp\tM-0\t0.381(0.030)\t0.244(0.030)\t0.081(0.030)\t0.116(0.030)\t0.041(0.030)\t0.017(0.030)\t0.119(0.030)\t-\t-\t-\t-\t-\t-\t\n"
     ]
    }
   ],
   "source": [
    "print LCMS.getLine()"
   ]
  },
  {
   "cell_type": "markdown",
   "metadata": {},
   "source": [
    "The **randomize** function produces new labeling patterns within the standard deviations of the labeling data (this is useful for finding flux fitting errors):"
   ]
  },
  {
   "cell_type": "code",
   "execution_count": 6,
   "metadata": {
    "collapsed": false
   },
   "outputs": [
    {
     "name": "stdout",
     "output_type": "stream",
     "text": [
      "fdp\tM-0\t0.379(0.030)\t0.268(0.030)\t0.098(0.030)\t0.139(0.030)\t0.049(0.030)\t0.024(0.030)\t0.114(0.030)\t-\t-\t-\t-\t-\t-\t\n"
     ]
    }
   ],
   "source": [
    "LCMS.randomize()\n",
    "print LCMS.getLine()"
   ]
  },
  {
   "cell_type": "markdown",
   "metadata": {},
   "source": [
    "And the **normalize** function normalizes the labeling distribution to one:"
   ]
  },
  {
   "cell_type": "code",
   "execution_count": 7,
   "metadata": {
    "collapsed": false
   },
   "outputs": [
    {
     "data": {
      "text/plain": [
       "1.0725360518021478"
      ]
     },
     "execution_count": 7,
     "metadata": {},
     "output_type": "execute_result"
    }
   ],
   "source": [
    "sum(LCMS.mdv)"
   ]
  },
  {
   "cell_type": "code",
   "execution_count": 8,
   "metadata": {
    "collapsed": false
   },
   "outputs": [
    {
     "name": "stdout",
     "output_type": "stream",
     "text": [
      "fdp\tM-0\t0.354(0.030)\t0.250(0.030)\t0.091(0.030)\t0.130(0.030)\t0.046(0.030)\t0.023(0.030)\t0.107(0.030)\t-\t-\t-\t-\t-\t-\t\n"
     ]
    }
   ],
   "source": [
    "LCMS.normalize()\n",
    "print LCMS.getLine()"
   ]
  },
  {
   "cell_type": "code",
   "execution_count": 9,
   "metadata": {
    "collapsed": false
   },
   "outputs": [
    {
     "data": {
      "text/plain": [
       "0.99999999999999989"
      ]
     },
     "execution_count": 9,
     "metadata": {},
     "output_type": "execute_result"
    }
   ],
   "source": [
    "sum(LCMS.mdv)"
   ]
  },
  {
   "cell_type": "markdown",
   "metadata": {},
   "source": [
    "The **getName** function provides the name of the fragment:"
   ]
  },
  {
   "cell_type": "code",
   "execution_count": 10,
   "metadata": {
    "collapsed": false
   },
   "outputs": [
    {
     "data": {
      "text/plain": [
       "'fdp'"
      ]
     },
     "execution_count": 10,
     "metadata": {},
     "output_type": "execute_result"
    }
   ],
   "source": [
    "LCMS.getName()"
   ]
  },
  {
   "cell_type": "markdown",
   "metadata": {},
   "source": [
    "### GC-MS class"
   ]
  },
  {
   "cell_type": "markdown",
   "metadata": {},
   "source": [
    "The *GCMS* class stores GC-MS labeling data. "
   ]
  },
  {
   "cell_type": "code",
   "execution_count": 11,
   "metadata": {
    "collapsed": false
   },
   "outputs": [],
   "source": [
    "GCMS = labeling.GCMSLabelData('Glu\tM-57\t0.412 \t0.275 \t0.191 \t0.081 \t0.032 \t0.009 \t-\t-\t-\t-')"
   ]
  },
  {
   "cell_type": "code",
   "execution_count": 12,
   "metadata": {
    "collapsed": false
   },
   "outputs": [
    {
     "name": "stdout",
     "output_type": "stream",
     "text": [
      "1.0\n"
     ]
    }
   ],
   "source": [
    "GCMS.normalize()\n",
    "print sum(GCMS.mdv)"
   ]
  },
  {
   "cell_type": "code",
   "execution_count": 13,
   "metadata": {
    "collapsed": false
   },
   "outputs": [
    {
     "data": {
      "text/plain": [
       "'Glu'"
      ]
     },
     "execution_count": 13,
     "metadata": {},
     "output_type": "execute_result"
    }
   ],
   "source": [
    "GCMS.getName()"
   ]
  },
  {
   "cell_type": "markdown",
   "metadata": {},
   "source": [
    "### labelString class"
   ]
  },
  {
   "cell_type": "markdown",
   "metadata": {
    "collapsed": true
   },
   "source": [
    "The *labelString* class translates labeling descriptions into the corresponding Mass Distribution Vector (MDV): "
   ]
  },
  {
   "cell_type": "code",
   "execution_count": 14,
   "metadata": {
    "collapsed": false
   },
   "outputs": [],
   "source": [
    "label1 = labeling.LabelinglString('1-C',6)  # Labeled in first carbon\n",
    "label2 = labeling.LabelinglString('U',6)    # Fully labeled\n",
    "label3 = labeling.LabelinglString('UN',6)   # Unlabeled"
   ]
  },
  {
   "cell_type": "code",
   "execution_count": 15,
   "metadata": {
    "collapsed": false
   },
   "outputs": [
    {
     "name": "stdout",
     "output_type": "stream",
     "text": [
      "MDV for 1-C:\t[0 1 0 0 0 0 0]\n",
      "MDV for U:\t[0 0 0 0 0 0 1]\n",
      "MDV for UN:\t[1 0 0 0 0 0 0]\n"
     ]
    }
   ],
   "source": [
    "print \"MDV for 1-C:\\t\"+str(label1.mdv('glc_e_1_2_3_4_5_6'))\n",
    "print \"MDV for U:\\t\"  +str(label2.mdv('glc_e_1_2_3_4_5_6'))\n",
    "print \"MDV for UN:\\t\" +str(label3.mdv('glc_e_1_2_3_4_5_6'))"
   ]
  },
  {
   "cell_type": "markdown",
   "metadata": {},
   "source": [
    "The MDV(n) is the fraction of molecules with n=1,2,3... carbons labeled. Hence the for 1-C $MDV(n)=0$ unless n=1, for U $MDV(n)=0$ unless n=6, and for UN $MDV(n)=0$ unless n=0."
   ]
  }
 ],
 "metadata": {
  "kernelspec": {
   "display_name": "jbeipython2",
   "language": "python",
   "name": "jbeipython2"
  },
  "language_info": {
   "codemirror_mode": {
    "name": "ipython",
    "version": 2
   },
   "file_extension": ".py",
   "mimetype": "text/x-python",
   "name": "python",
   "nbconvert_exporter": "python",
   "pygments_lexer": "ipython2",
   "version": "2.7.9"
  }
 },
 "nbformat": 4,
 "nbformat_minor": 0
}
