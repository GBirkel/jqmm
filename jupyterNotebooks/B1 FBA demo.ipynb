{
 "cells": [
  {
   "cell_type": "markdown",
   "metadata": {},
   "source": [
    "# B1: FBA demo"
   ]
  },
  {
   "cell_type": "markdown",
   "metadata": {},
   "source": [
    "# Introduction"
   ]
  },
  {
   "cell_type": "markdown",
   "metadata": {},
   "source": [
    "This notebook shows how to use jQMM for FBA (Flux Balance Analysis) and FVA (Flux Variability Analysis) by reproducing results in table 2 from Becker *et al* 2007."
   ]
  },
  {
   "cell_type": "markdown",
   "metadata": {},
   "source": [
    "# Setup"
   ]
  },
  {
   "cell_type": "markdown",
   "metadata": {},
   "source": [
    "First, we need to set the path and environment variable properly:"
   ]
  },
  {
   "cell_type": "code",
   "execution_count": 1,
   "metadata": {
    "collapsed": true
   },
   "outputs": [],
   "source": [
    "quantmodelDir = '/users/hgmartin/libraries/quantmodel'"
   ]
  },
  {
   "cell_type": "markdown",
   "metadata": {},
   "source": [
    "This is the only place where the jQMM library path needs to be set."
   ]
  },
  {
   "cell_type": "code",
   "execution_count": 2,
   "metadata": {
    "collapsed": true
   },
   "outputs": [],
   "source": [
    "%matplotlib inline\n",
    "\n",
    "import sys, os\n",
    "pythonPath = quantmodelDir+\"/code/core\"\n",
    "if pythonPath not in sys.path:\n",
    "    sys.path.append(pythonPath)\n",
    "os.environ[\"QUANTMODELPATH\"] = quantmodelDir"
   ]
  },
  {
   "cell_type": "markdown",
   "metadata": {},
   "source": [
    "Then load all needed packages:"
   ]
  },
  {
   "cell_type": "code",
   "execution_count": 3,
   "metadata": {
    "collapsed": true
   },
   "outputs": [],
   "source": [
    "%matplotlib inline\n",
    "import FluxModels"
   ]
  },
  {
   "cell_type": "markdown",
   "metadata": {},
   "source": [
    "And change to the tests directory (no need for the scratch directory for this one):"
   ]
  },
  {
   "cell_type": "code",
   "execution_count": 4,
   "metadata": {
    "collapsed": false
   },
   "outputs": [
    {
     "name": "stdout",
     "output_type": "stream",
     "text": [
      "/mnt/nfs.jbei/nfs/users/hgmartin/tests\n"
     ]
    }
   ],
   "source": [
    "cd ~/tests"
   ]
  },
  {
   "cell_type": "markdown",
   "metadata": {},
   "source": [
    "# Results"
   ]
  },
  {
   "cell_type": "markdown",
   "metadata": {},
   "source": [
    "First we load the sbml file into FBA model instances:"
   ]
  },
  {
   "cell_type": "code",
   "execution_count": 5,
   "metadata": {
    "collapsed": true
   },
   "outputs": [],
   "source": [
    "fileName = os.environ[\"QUANTMODELPATH\"]+'/data/sbmlFiles/EciJR904.xml'\n",
    "FBAmodel  = FluxModels.FBAModel(fileName)\n",
    "FBAmodel2 = FluxModels.FBAModel(fileName)\n",
    "FBAmodel3 = FluxModels.FBAModel(fileName)\n"
   ]
  },
  {
   "cell_type": "markdown",
   "metadata": {},
   "source": [
    "Then we change the flux bounds for model 2 to grow on succinate instead of glucose and for model 3 to grow anaerobically:"
   ]
  },
  {
   "cell_type": "code",
   "execution_count": 6,
   "metadata": {
    "collapsed": false
   },
   "outputs": [],
   "source": [
    "FBAmodel2.reactionNetwork.changeFluxBounds('EX_glc_e_'  ,0)\n",
    "FBAmodel2.reactionNetwork.changeFluxBounds('EX_succ_e_' ,-9)\n",
    "\n",
    "FBAmodel3.reactionNetwork.changeFluxBounds('EX_o2_e_'  ,0)       "
   ]
  },
  {
   "cell_type": "markdown",
   "metadata": {},
   "source": [
    "Once flux bounds are properly set we can calculate the corresponding fluxes for each model:"
   ]
  },
  {
   "cell_type": "code",
   "execution_count": 7,
   "metadata": {
    "collapsed": false
   },
   "outputs": [],
   "source": [
    "FBAresults   = FBAmodel.findFluxes()\n",
    "FBAresults2  = FBAmodel2.findFluxes()\n",
    "FBAresults3  = FBAmodel3.findFluxes()"
   ]
  },
  {
   "cell_type": "markdown",
   "metadata": {},
   "source": [
    "and obtain a reaction dictionary for the reaction network (see notebook A3):"
   ]
  },
  {
   "cell_type": "code",
   "execution_count": 9,
   "metadata": {
    "collapsed": false
   },
   "outputs": [],
   "source": [
    "rxnDict  = FBAresults.reactionNetwork.reactionList.getReactionDictionary()\n",
    "rxnDict2 = FBAresults2.reactionNetwork.reactionList.getReactionDictionary()\n",
    "rxnDict3 = FBAresults3.reactionNetwork.reactionList.getReactionDictionary()"
   ]
  },
  {
   "cell_type": "markdown",
   "metadata": {},
   "source": [
    "The net flux (the only one calculated for FBA, as opposed to $^{13}$C MFA) of exchange flux for e.g. glucose input, pyruvate dehydrogenase (PDH), and glucose-6-phosphate isomerase (PGI) are:"
   ]
  },
  {
   "cell_type": "code",
   "execution_count": 10,
   "metadata": {
    "collapsed": false
   },
   "outputs": [
    {
     "name": "stdout",
     "output_type": "stream",
     "text": [
      "EX_glc_e_:\t -6.0\n",
      "PDH:\t\t 5.02097213844\n",
      "PGI:\t\t 3.12895634753\n"
     ]
    }
   ],
   "source": [
    "print 'EX_glc_e_:\\t '+str(rxnDict['EX_glc_e_'].flux.net)\n",
    "print 'PDH:\\t\\t '+str(rxnDict['PDH'].flux.net)\n",
    "print 'PGI:\\t\\t '+str(rxnDict['PGI'].flux.net)"
   ]
  },
  {
   "cell_type": "markdown",
   "metadata": {},
   "source": [
    "and the growth rates shown in table 2 in Becker *et al* 2007 are:"
   ]
  },
  {
   "cell_type": "code",
   "execution_count": 11,
   "metadata": {
    "collapsed": false
   },
   "outputs": [
    {
     "name": "stdout",
     "output_type": "stream",
     "text": [
      "0.53911307865\n"
     ]
    }
   ],
   "source": [
    "print rxnDict['BiomassEcoli'].flux.net"
   ]
  },
  {
   "cell_type": "markdown",
   "metadata": {},
   "source": [
    "for glucose aerobic growth, which compares well to the value of 0.539 in table 2 from Becker *et al* 2007."
   ]
  },
  {
   "cell_type": "code",
   "execution_count": 12,
   "metadata": {
    "collapsed": false
   },
   "outputs": [
    {
     "name": "stdout",
     "output_type": "stream",
     "text": [
      "0.385924559398\n"
     ]
    }
   ],
   "source": [
    "print rxnDict2['BiomassEcoli'].flux.net"
   ]
  },
  {
   "cell_type": "markdown",
   "metadata": {},
   "source": [
    "for succinate aerobic growth, which compares well to the value of 0.386 in table 2 from Becker *et al* 2007."
   ]
  },
  {
   "cell_type": "code",
   "execution_count": 13,
   "metadata": {
    "collapsed": false
   },
   "outputs": [
    {
     "name": "stdout",
     "output_type": "stream",
     "text": [
      "0.0967170799042\n"
     ]
    }
   ],
   "source": [
    "print rxnDict3['BiomassEcoli'].flux.net"
   ]
  },
  {
   "cell_type": "markdown",
   "metadata": {},
   "source": [
    "for glucose anaerobic growth, which compares well to the value of 0.097 in table 2 from Becker *et al* 2007."
   ]
  },
  {
   "cell_type": "markdown",
   "metadata": {},
   "source": [
    "# References"
   ]
  },
  {
   "cell_type": "markdown",
   "metadata": {},
   "source": [
    "Becker, Scott A., et al. \"Quantitative prediction of cellular metabolism with constraint-based models: the COBRA Toolbox.\" Nature protocols 2.3 (2007): 727-738."
   ]
  }
 ],
 "metadata": {
  "kernelspec": {
   "display_name": "jbeipython2",
   "language": "python",
   "name": "jbeipython2"
  },
  "language_info": {
   "codemirror_mode": {
    "name": "ipython",
    "version": 2
   },
   "file_extension": ".py",
   "mimetype": "text/x-python",
   "name": "python",
   "nbconvert_exporter": "python",
   "pygments_lexer": "ipython2",
   "version": "2.7.9"
  }
 },
 "nbformat": 4,
 "nbformat_minor": 0
}
