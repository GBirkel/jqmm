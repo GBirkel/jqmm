{
 "cells": [
  {
   "cell_type": "markdown",
   "metadata": {},
   "source": [
    "# A6: predictions demo"
   ]
  },
  {
   "cell_type": "markdown",
   "metadata": {},
   "source": [
    "# Introduction"
   ]
  },
  {
   "cell_type": "markdown",
   "metadata": {},
   "source": [
    "This notebook describes the COBRA methods for flux prediction in jQMM: MoMA (Minimization of Metabolic Adjustment) and ROOM (Regulatory On/Off Minimization), which were used in Garcia Martin *et al* 2015. "
   ]
  },
  {
   "cell_type": "markdown",
   "metadata": {},
   "source": [
    "# Setup"
   ]
  },
  {
   "cell_type": "markdown",
   "metadata": {},
   "source": [
    "First, we need to set the path and environment variable properly:"
   ]
  },
  {
   "cell_type": "code",
   "execution_count": 1,
   "metadata": {
    "collapsed": true
   },
   "outputs": [],
   "source": [
    "quantmodelDir = '/users/hgmartin/libraries/quantmodel'"
   ]
  },
  {
   "cell_type": "markdown",
   "metadata": {},
   "source": [
    "This is the only place where the jQMM library path needs to be set."
   ]
  },
  {
   "cell_type": "code",
   "execution_count": 2,
   "metadata": {
    "collapsed": true
   },
   "outputs": [],
   "source": [
    "%matplotlib inline\n",
    "\n",
    "import sys, os\n",
    "pythonPath = quantmodelDir+\"/code/core\"\n",
    "if pythonPath not in sys.path:\n",
    "    sys.path.append(pythonPath)\n",
    "os.environ[\"QUANTMODELPATH\"] = quantmodelDir"
   ]
  },
  {
   "cell_type": "markdown",
   "metadata": {},
   "source": [
    "And importing needed modules:"
   ]
  },
  {
   "cell_type": "code",
   "execution_count": 3,
   "metadata": {
    "collapsed": false
   },
   "outputs": [],
   "source": [
    "import predictions, FluxModels,core\n",
    "import copy"
   ]
  },
  {
   "cell_type": "code",
   "execution_count": 4,
   "metadata": {
    "collapsed": false
   },
   "outputs": [
    {
     "name": "stdout",
     "output_type": "stream",
     "text": [
      "/mnt/nfs.jbei/nfs/users/hgmartin/tests\n"
     ]
    }
   ],
   "source": [
    "cd ~/tests"
   ]
  },
  {
   "cell_type": "markdown",
   "metadata": {},
   "source": [
    "# Results"
   ]
  },
  {
   "cell_type": "markdown",
   "metadata": {},
   "source": [
    "The main method in this modules is the function *predict*, which is used to find flux predictions through the MoMA or ROOM methods.\n",
    "\n",
    "In order to demonstrate it, let's first calculate the base flux profiles (i.e. flux profile before KO):"
   ]
  },
  {
   "cell_type": "code",
   "execution_count": 5,
   "metadata": {
    "collapsed": false
   },
   "outputs": [],
   "source": [
    "FBAfileName = os.environ[\"QUANTMODELPATH\"]+'/data/tests/Toya2010/2S/2SpaperTest/XML/'+'EciJR904wt5hGrowth'+'Partial'+'.xml'    \n",
    "FBAmodel    = FluxModels.FBAModel(FBAfileName)"
   ]
  },
  {
   "cell_type": "code",
   "execution_count": 6,
   "metadata": {
    "collapsed": false
   },
   "outputs": [],
   "source": [
    "FBAresults   = FBAmodel.findFluxes()"
   ]
  },
  {
   "cell_type": "markdown",
   "metadata": {},
   "source": [
    "We need now a base reaction network holding the upper and lower bounds of the predicted network:"
   ]
  },
  {
   "cell_type": "code",
   "execution_count": 7,
   "metadata": {
    "collapsed": false
   },
   "outputs": [],
   "source": [
    "ReacNet   = copy.deepcopy(FBAmodel.reactionNetwork)\n",
    "\n",
    "# Change flux bounds to avoid biasing prediction\n",
    "ReacNet.changeFluxBounds('GLCpts'      ,core.fluxBounds( 0, 25  ,False)[1])      \n",
    "ReacNet.changeFluxBounds('EX_glc_e_'   ,core.fluxBounds(-15,-0  ,True,True)[1])\n",
    "ReacNet.changeFluxBounds('BiomassEcoli' ,core.fluxBounds( 0, 25  ,False)[1])      \n",
    "ReacNet.changeFluxBounds('EX_ac_e_'    ,core.fluxBounds( 0, 25  ,True,True)[1])"
   ]
  },
  {
   "cell_type": "markdown",
   "metadata": {},
   "source": [
    "Let's now calculate the predicted fluxes if the reaction 'PGI' is knocked out using MOMA:"
   ]
  },
  {
   "cell_type": "code",
   "execution_count": 8,
   "metadata": {
    "collapsed": false
   },
   "outputs": [],
   "source": [
    "MOMAresults    = predictions.predict(FBAresults,'PGI','MOMA', ReacNet.getSBMLString())"
   ]
  },
  {
   "cell_type": "markdown",
   "metadata": {},
   "source": [
    "and ROOM:"
   ]
  },
  {
   "cell_type": "code",
   "execution_count": 9,
   "metadata": {
    "collapsed": true
   },
   "outputs": [],
   "source": [
    "ROOMresults    = predictions.predict(FBAresults,'PGI','ROOM', ReacNet.getSBMLString())"
   ]
  },
  {
   "cell_type": "code",
   "execution_count": 10,
   "metadata": {
    "collapsed": false
   },
   "outputs": [],
   "source": [
    "MOMAdict = MOMAresults.reactionNetwork.reactionList.getFluxDictionary()"
   ]
  },
  {
   "cell_type": "code",
   "execution_count": 11,
   "metadata": {
    "collapsed": false
   },
   "outputs": [],
   "source": [
    "ROOMdict = ROOMresults.reactionNetwork.reactionList.getFluxDictionary()"
   ]
  },
  {
   "cell_type": "markdown",
   "metadata": {},
   "source": [
    "Predictions of PGI flux for both method are the same (since it corresponds to the reaction being eliminated):"
   ]
  },
  {
   "cell_type": "code",
   "execution_count": 12,
   "metadata": {
    "collapsed": false
   },
   "outputs": [
    {
     "name": "stdout",
     "output_type": "stream",
     "text": [
      "0.0\n",
      "0.0\n"
     ]
    }
   ],
   "source": [
    "print MOMAdict['PGI'].net\n",
    "print ROOMdict['PGI'].net"
   ]
  },
  {
   "cell_type": "markdown",
   "metadata": {},
   "source": [
    "But the MoMA and ROOM methods provide different predictions for other fluxes:"
   ]
  },
  {
   "cell_type": "code",
   "execution_count": 13,
   "metadata": {
    "collapsed": false
   },
   "outputs": [
    {
     "name": "stdout",
     "output_type": "stream",
     "text": [
      "9.89938763494\n",
      "14.6158706172\n"
     ]
    }
   ],
   "source": [
    "print MOMAdict['G6PDH2r'].net\n",
    "print ROOMdict['G6PDH2r'].net"
   ]
  },
  {
   "cell_type": "markdown",
   "metadata": {},
   "source": [
    "# References"
   ]
  },
  {
   "cell_type": "markdown",
   "metadata": {},
   "source": [
    "Martín, Héctor García, et al. \"A method to constrain genome-scale models with 13 C labeling data.\" PLoS Comput Biol 11.9 (2015): e1004363.\n"
   ]
  }
 ],
 "metadata": {
  "kernelspec": {
   "display_name": "jbeipython2",
   "language": "python",
   "name": "jbeipython2"
  },
  "language_info": {
   "codemirror_mode": {
    "name": "ipython",
    "version": 2
   },
   "file_extension": ".py",
   "mimetype": "text/x-python",
   "name": "python",
   "nbconvert_exporter": "python",
   "pygments_lexer": "ipython2",
   "version": "2.7.9"
  }
 },
 "nbformat": 4,
 "nbformat_minor": 0
}
